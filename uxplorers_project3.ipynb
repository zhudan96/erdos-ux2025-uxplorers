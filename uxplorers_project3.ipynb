{
 "cells": [
  {
   "cell_type": "markdown",
   "id": "07946b02-3906-47e2-8005-30caef651eeb",
   "metadata": {},
   "source": [
    "**Statistical Analysis**\n",
    "\n",
    "This code is for the A/B test in project 3. \n",
    "By Team UXplorers"
   ]
  },
  {
   "cell_type": "code",
   "execution_count": 1,
   "id": "665d0ca9-bff3-40a9-ab19-2eca72ca3227",
   "metadata": {},
   "outputs": [],
   "source": [
    "# import necessary packages\n",
    "import seaborn as sns\n",
    "import matplotlib.pyplot as plt\n",
    "import pandas as pd\n",
    "import warnings\n",
    "import numpy as np\n",
    "from numpy import random\n",
    "from scipy import stats\n",
    "from scipy.stats import chi2_contingency\n",
    "\n",
    "warnings.simplefilter(\"ignore\")"
   ]
  },
  {
   "cell_type": "code",
   "execution_count": 2,
   "id": "e3766aa4-0712-48f9-bb82-d7c5dd77cd9f",
   "metadata": {},
   "outputs": [],
   "source": [
    "# prepare dataset: add some synthetic data to the Kaggle dataset\n",
    "# https://github.com/TheErdosInstitute/ux-research-summer-2025/blob/main/basic_statistical_analysis.ipynb\n",
    "\n",
    "df = pd.read_csv('C:/Users/zhuda/OneDrive - The Ohio State University/Erdos Institute/ux-research-summer-2025/AB_Test_Results.csv')"
   ]
  },
  {
   "cell_type": "code",
   "execution_count": 3,
   "id": "90f18113-1b65-4aa7-8e09-89fb9b98512b",
   "metadata": {},
   "outputs": [
    {
     "data": {
      "text/html": [
       "<div>\n",
       "<style scoped>\n",
       "    .dataframe tbody tr th:only-of-type {\n",
       "        vertical-align: middle;\n",
       "    }\n",
       "\n",
       "    .dataframe tbody tr th {\n",
       "        vertical-align: top;\n",
       "    }\n",
       "\n",
       "    .dataframe thead th {\n",
       "        text-align: right;\n",
       "    }\n",
       "</style>\n",
       "<table border=\"1\" class=\"dataframe\">\n",
       "  <thead>\n",
       "    <tr style=\"text-align: right;\">\n",
       "      <th></th>\n",
       "      <th>USER_ID</th>\n",
       "      <th>VARIANT_NAME</th>\n",
       "      <th>REVENUE</th>\n",
       "    </tr>\n",
       "  </thead>\n",
       "  <tbody>\n",
       "    <tr>\n",
       "      <th>0</th>\n",
       "      <td>737</td>\n",
       "      <td>variant</td>\n",
       "      <td>0.0</td>\n",
       "    </tr>\n",
       "    <tr>\n",
       "      <th>1</th>\n",
       "      <td>2423</td>\n",
       "      <td>control</td>\n",
       "      <td>0.0</td>\n",
       "    </tr>\n",
       "    <tr>\n",
       "      <th>2</th>\n",
       "      <td>9411</td>\n",
       "      <td>control</td>\n",
       "      <td>0.0</td>\n",
       "    </tr>\n",
       "    <tr>\n",
       "      <th>3</th>\n",
       "      <td>7311</td>\n",
       "      <td>control</td>\n",
       "      <td>0.0</td>\n",
       "    </tr>\n",
       "    <tr>\n",
       "      <th>4</th>\n",
       "      <td>6174</td>\n",
       "      <td>variant</td>\n",
       "      <td>0.0</td>\n",
       "    </tr>\n",
       "    <tr>\n",
       "      <th>...</th>\n",
       "      <td>...</td>\n",
       "      <td>...</td>\n",
       "      <td>...</td>\n",
       "    </tr>\n",
       "    <tr>\n",
       "      <th>9995</th>\n",
       "      <td>1981</td>\n",
       "      <td>control</td>\n",
       "      <td>0.0</td>\n",
       "    </tr>\n",
       "    <tr>\n",
       "      <th>9996</th>\n",
       "      <td>502</td>\n",
       "      <td>variant</td>\n",
       "      <td>0.0</td>\n",
       "    </tr>\n",
       "    <tr>\n",
       "      <th>9997</th>\n",
       "      <td>9214</td>\n",
       "      <td>variant</td>\n",
       "      <td>0.0</td>\n",
       "    </tr>\n",
       "    <tr>\n",
       "      <th>9998</th>\n",
       "      <td>7741</td>\n",
       "      <td>control</td>\n",
       "      <td>0.0</td>\n",
       "    </tr>\n",
       "    <tr>\n",
       "      <th>9999</th>\n",
       "      <td>9468</td>\n",
       "      <td>control</td>\n",
       "      <td>0.0</td>\n",
       "    </tr>\n",
       "  </tbody>\n",
       "</table>\n",
       "<p>10000 rows × 3 columns</p>\n",
       "</div>"
      ],
      "text/plain": [
       "      USER_ID VARIANT_NAME  REVENUE\n",
       "0         737      variant      0.0\n",
       "1        2423      control      0.0\n",
       "2        9411      control      0.0\n",
       "3        7311      control      0.0\n",
       "4        6174      variant      0.0\n",
       "...       ...          ...      ...\n",
       "9995     1981      control      0.0\n",
       "9996      502      variant      0.0\n",
       "9997     9214      variant      0.0\n",
       "9998     7741      control      0.0\n",
       "9999     9468      control      0.0\n",
       "\n",
       "[10000 rows x 3 columns]"
      ]
     },
     "execution_count": 3,
     "metadata": {},
     "output_type": "execute_result"
    }
   ],
   "source": [
    "df"
   ]
  },
  {
   "cell_type": "code",
   "execution_count": 4,
   "id": "2b4dea71-e704-41bf-977c-53406176ca39",
   "metadata": {},
   "outputs": [
    {
     "name": "stdout",
     "output_type": "stream",
     "text": [
      "T-statistic: 1.271, P-value: 0.204\n"
     ]
    }
   ],
   "source": [
    "# separate into two groups\n",
    "control = df['REVENUE'][df['VARIANT_NAME'] == 'control']\n",
    "variant = df['REVENUE'][df['VARIANT_NAME'] == 'variant']\n",
    "\n",
    "# conduct independent sample t-test\n",
    "t_statistic, p_value = stats.ttest_ind(control, variant)\n",
    "print(f\"T-statistic: {t_statistic:.3f}, P-value: {p_value:.3f}\")"
   ]
  },
  {
   "cell_type": "code",
   "execution_count": 5,
   "id": "1fd088bf-0cbf-4f95-a30e-3d859e0842e4",
   "metadata": {},
   "outputs": [
    {
     "name": "stdout",
     "output_type": "stream",
     "text": [
      "0.12901284109149277\n",
      "0.07006977671451356\n",
      "196.01\n",
      "58.63\n"
     ]
    }
   ],
   "source": [
    "print(np.mean(control))\n",
    "print(np.mean(variant))\n",
    "print(np.max(control))\n",
    "print(np.max(variant))"
   ]
  },
  {
   "cell_type": "markdown",
   "id": "a47667c5-fb16-4366-bdca-26e783d7fd74",
   "metadata": {},
   "source": [
    "However, we want to check the data distribution and normality first to choose proper statistical tests."
   ]
  },
  {
   "cell_type": "code",
   "execution_count": 14,
   "id": "d37dcef6-add2-4300-8b77-ebf6f96fa166",
   "metadata": {},
   "outputs": [
    {
     "data": {
      "image/png": "[encoded data removed]",
      "text/plain": [
       "<Figure size 640x480 with 1 Axes>"
      ]
     },
     "metadata": {},
     "output_type": "display_data"
    }
   ],
   "source": [
    "# create a density plot of the data\n",
    "fig = sns.kdeplot(data=df, x='REVENUE', hue='VARIANT_NAME', shade=True)\n",
    "#fig.set_xlim(500,525)\n",
    "plt.show()"
   ]
  },
  {
   "cell_type": "code",
   "execution_count": 19,
   "id": "67abb886-14cd-4919-9216-f81238a050ac",
   "metadata": {},
   "outputs": [
    {
     "data": {
      "image/png": "[encoded data removed]",
      "text/plain": [
       "<Figure size 640x480 with 1 Axes>"
      ]
     },
     "metadata": {},
     "output_type": "display_data"
    }
   ],
   "source": [
    "sns.violinplot(x='VARIANT_NAME', y='REVENUE', data=df)\n",
    "plt.title('Violin Plot: Control vs Variant')\n",
    "plt.show()"
   ]
  },
  {
   "cell_type": "code",
   "execution_count": 6,
   "id": "7adce22e-4b4d-49e2-a127-d6bce4b95c6e",
   "metadata": {},
   "outputs": [
    {
     "name": "stdout",
     "output_type": "stream",
     "text": [
      "Normality p-values: Control=0.000, Variant=0.000\n"
     ]
    }
   ],
   "source": [
    "# check normality\n",
    "_, p_a = stats.shapiro(control)\n",
    "_, p_b = stats.shapiro(variant)\n",
    "print(f\"Normality p-values: Control={p_a:.3f}, Variant={p_b:.3f}\")"
   ]
  },
  {
   "cell_type": "markdown",
   "id": "aaeedd6d-83b5-4fd8-841f-c72e319d974f",
   "metadata": {},
   "source": [
    "Since both p-value are smaller than 0.05, we use Mann-Whitney U test."
   ]
  },
  {
   "cell_type": "code",
   "execution_count": 7,
   "id": "a195d3cd-0da8-4772-82da-632d90f9a903",
   "metadata": {},
   "outputs": [
    {
     "name": "stdout",
     "output_type": "stream",
     "text": [
      "U-statistic: 12521564.0, P-value: 0.478\n"
     ]
    }
   ],
   "source": [
    "#try non-parametric version t-test: Mann-Whitney U test\n",
    "u_stat, p_value = stats.mannwhitneyu(control, variant, alternative='two-sided')\n",
    "print(f\"U-statistic: {u_stat}, P-value: {p_value:.3f}\")"
   ]
  },
  {
   "cell_type": "markdown",
   "id": "a23aa786-5e88-4873-a0c1-20a85f3e134c",
   "metadata": {},
   "source": [
    "p > 0.05, fail to reject the null"
   ]
  }
 ],
 "metadata": {
  "kernelspec": {
   "display_name": "Python 3 (ipykernel)",
   "language": "python",
   "name": "python3"
  },
  "language_info": {
   "codemirror_mode": {
    "name": "ipython",
    "version": 3
   },
   "file_extension": ".py",
   "mimetype": "text/x-python",
   "name": "python",
   "nbconvert_exporter": "python",
   "pygments_lexer": "ipython3",
   "version": "3.12.7"
  }
 },
 "nbformat": 4,
 "nbformat_minor": 5
}
